{
 "cells": [
  {
   "cell_type": "markdown",
   "metadata": {},
   "source": [
    "# A Basic Movie Recommendation Program"
   ]
  },
  {
   "cell_type": "code",
   "execution_count": 1,
   "metadata": {},
   "outputs": [
    {
     "name": "stderr",
     "output_type": "stream",
     "text": [
      "Setting default log level to \"WARN\".\n",
      "To adjust logging level use sc.setLogLevel(newLevel). For SparkR, use setLogLevel(newLevel).\n",
      "24/11/24 20:32:33 WARN NativeCodeLoader: Unable to load native-hadoop library for your platform... using builtin-java classes where applicable\n"
     ]
    },
    {
     "name": "stdout",
     "output_type": "stream",
     "text": [
      "+----+-------+------+\n",
      "|user|product|rating|\n",
      "+----+-------+------+\n",
      "|1   |1193   |5.0   |\n",
      "|1   |661    |3.0   |\n",
      "|1   |914    |3.0   |\n",
      "|1   |3408   |4.0   |\n",
      "|1   |2355   |5.0   |\n",
      "|1   |1197   |3.0   |\n",
      "|1   |1287   |5.0   |\n",
      "|1   |2804   |5.0   |\n",
      "|1   |594    |4.0   |\n",
      "|1   |919    |4.0   |\n",
      "+----+-------+------+\n",
      "only showing top 10 rows\n",
      "\n"
     ]
    }
   ],
   "source": [
    "from pyspark.sql import  SparkSession\n",
    "from pyspark.sql.types import IntegerType, FloatType \n",
    "from pyspark.sql.functions import split, col\n",
    "\n",
    "\n",
    "spark = SparkSession.builder.appName(\"MovieRecommender\").getOrCreate()\n",
    "\n",
    "ratings = spark.read.text(\"ml-1m/ratings.dat\")\n",
    "\n",
    "ratings = ratings.withColumn(\"value\", split(col(\"value\"), \"::\")) \\\n",
    "    .select(\n",
    "        col(\"value\")[0].cast(IntegerType()).alias(\"user\"),\n",
    "        col(\"value\")[1].cast(IntegerType()).alias(\"product\"),\n",
    "        col(\"value\")[2].cast(FloatType()).alias(\"rating\")\n",
    "    )\n",
    "\n",
    "ratings.show(10, truncate=False)\n",
    "\n"
   ]
  },
  {
   "cell_type": "code",
   "execution_count": 2,
   "metadata": {},
   "outputs": [
    {
     "name": "stdout",
     "output_type": "stream",
     "text": [
      "+-----+----------------------------------+--------------------------------+\n",
      "|movie|title                             |genre                           |\n",
      "+-----+----------------------------------+--------------------------------+\n",
      "|1    |Toy Story (1995)                  |[Animation, Children's, Comedy] |\n",
      "|2    |Jumanji (1995)                    |[Adventure, Children's, Fantasy]|\n",
      "|3    |Grumpier Old Men (1995)           |[Comedy, Romance]               |\n",
      "|4    |Waiting to Exhale (1995)          |[Comedy, Drama]                 |\n",
      "|5    |Father of the Bride Part II (1995)|[Comedy]                        |\n",
      "|6    |Heat (1995)                       |[Action, Crime, Thriller]       |\n",
      "|7    |Sabrina (1995)                    |[Comedy, Romance]               |\n",
      "|8    |Tom and Huck (1995)               |[Adventure, Children's]         |\n",
      "|9    |Sudden Death (1995)               |[Action]                        |\n",
      "|10   |GoldenEye (1995)                  |[Action, Adventure, Thriller]   |\n",
      "+-----+----------------------------------+--------------------------------+\n",
      "only showing top 10 rows\n",
      "\n"
     ]
    }
   ],
   "source": [
    "movies = spark.read.text(\"ml-1m/movies.dat\")\n",
    "\n",
    "# Process the data\n",
    "movies = movies.withColumn(\"value\", split(col(\"value\"), \"::\")) \\\n",
    "    .select(\n",
    "        col(\"value\")[0].cast(IntegerType()).alias(\"movie\"),\n",
    "        col(\"value\")[1].alias(\"title\"),\n",
    "        split(col(\"value\")[2], \"\\\\|\").alias(\"genre\")\n",
    "    )\n",
    "\n",
    "movies.show(10, truncate=False)"
   ]
  },
  {
   "cell_type": "code",
   "execution_count": 3,
   "metadata": {},
   "outputs": [
    {
     "name": "stdout",
     "output_type": "stream",
     "text": [
      "Row(movie=1, title='Toy Story (1995)', genre=['Animation', \"Children's\", 'Comedy'])\n",
      "Row(movie=13, title='Balto (1995)', genre=['Animation', \"Children's\"])\n",
      "Row(movie=48, title='Pocahontas (1995)', genre=['Animation', \"Children's\", 'Musical', 'Romance'])\n",
      "Row(movie=239, title='Goofy Movie, A (1995)', genre=['Animation', \"Children's\", 'Comedy', 'Romance'])\n",
      "Row(movie=244, title='Gumby: The Movie (1995)', genre=['Animation', \"Children's\"])\n",
      "Row(movie=313, title='Swan Princess, The (1994)', genre=['Animation', \"Children's\"])\n",
      "Row(movie=364, title='Lion King, The (1994)', genre=['Animation', \"Children's\", 'Musical'])\n",
      "Row(movie=558, title='Pagemaster, The (1994)', genre=['Action', 'Adventure', 'Animation', \"Children's\", 'Fantasy'])\n",
      "Row(movie=588, title='Aladdin (1992)', genre=['Animation', \"Children's\", 'Comedy', 'Musical'])\n",
      "Row(movie=594, title='Snow White and the Seven Dwarfs (1937)', genre=['Animation', \"Children's\", 'Musical'])\n"
     ]
    }
   ],
   "source": [
    "animated_movies = movies.rdd \\\n",
    "    .filter(lambda row: \"Animation\" in row[\"genre\"]) \\\n",
    "    .take(10)\n",
    "\n",
    "for movie in animated_movies:\n",
    "    print(movie)"
   ]
  },
  {
   "cell_type": "code",
   "execution_count": 4,
   "metadata": {},
   "outputs": [],
   "source": [
    "personal_ratings = [\n",
    "    (\"Toy Story (1995)\", 5.0),\n",
    "    (\"Jumanji (1995)\", 4.0),\n",
    "    (\"Pocahontas (1995)\", 5.0),\n",
    "    (\"Aladdin (1992)\", 5.0),\n",
    "    (\"Inferno (1980)\", 1.0),\n",
    "    (\"Balto (1995)\", 5.0),\n",
    "    (\"Man of the Year (1995)\", 5.0),\n",
    "    (\"Mortal Kombat (1995)\", 1.0),\n",
    "    (\"Ace Ventura: When Nature Calls (1995)\", 1.0),\n",
    "    (\"Heat (1995)\", 1.0),\n",
    "    (\"Seven Samurai (The Magnificent Seven) (Shichinin no samurai) (1954)\", 1.0),\n",
    "    (\"Saving Private Ryan (1998)\", 1.0),\n",
    "    (\"Sixth Sense, The (1999)\", 1.0),\n",
    "    (\"Wrong Trousers, The (1993)\", 1.0),\n",
    "    (\"Indiana Jones and the Last Crusade (1989)\", 1.0),\n",
    "    (\"Godfather, The (1972)\", 1.0),\n",
    "    (\"Fugitive, The (1993)\", 1.0),\n",
    "    (\"Silence of the Lambs, The (1991)\", 2.0)\n",
    "]\n",
    "\n",
    "columns = [\"title\", \"rating\"]\n",
    "\n",
    "personal_ratings = spark.createDataFrame(personal_ratings, columns)"
   ]
  },
  {
   "cell_type": "code",
   "execution_count": 5,
   "metadata": {},
   "outputs": [
    {
     "name": "stdout",
     "output_type": "stream",
     "text": [
      "Movie IDs: [1, 2, 48, 588, 3587, 13, 137, 44, 19, 6, 2019, 2028, 2762, 1148, 1291, 858, 457, 593]\n"
     ]
    }
   ],
   "source": [
    "from pyspark.sql.functions import lit\n",
    "\n",
    "\n",
    "user_id = 0\n",
    "\n",
    "# Join `personal_ratings` with `movies` on the \"title\" column\n",
    "normalized_ratings = personal_ratings.join(movies, on=\"title\") \\\n",
    "    .select(\n",
    "        lit(user_id).alias(\"user\"), \n",
    "        movies[\"movie\"].alias(\"product\"),\n",
    "        personal_ratings[\"rating\"]\n",
    "    )\n",
    "\n",
    "\n",
    "\n",
    "movie_ids = normalized_ratings.select(\"product\").rdd.map(lambda row: row[\"product\"]).collect()\n",
    "\n",
    "print(\"Movie IDs:\", movie_ids)"
   ]
  },
  {
   "cell_type": "code",
   "execution_count": 6,
   "metadata": {},
   "outputs": [
    {
     "name": "stderr",
     "output_type": "stream",
     "text": [
      "                                                                                \r"
     ]
    },
    {
     "name": "stdout",
     "output_type": "stream",
     "text": [
      "+----+-------+------+\n",
      "|user|product|rating|\n",
      "+----+-------+------+\n",
      "|   0|      1|   5.0|\n",
      "|   0|      2|   4.0|\n",
      "|   0|     48|   5.0|\n",
      "|   0|    588|   5.0|\n",
      "|   0|   3587|   1.0|\n",
      "|   0|     13|   5.0|\n",
      "|   0|    137|   5.0|\n",
      "|   0|     44|   1.0|\n",
      "|   0|     19|   1.0|\n",
      "|   0|      6|   1.0|\n",
      "+----+-------+------+\n",
      "only showing top 10 rows\n",
      "\n",
      "+----+-------+------+\n",
      "|user|product|rating|\n",
      "+----+-------+------+\n",
      "|   1|   1207|   4.0|\n",
      "|   1|   1246|   4.0|\n",
      "|   1|   2028|   5.0|\n",
      "|   1|   2804|   5.0|\n",
      "|   1|   3114|   4.0|\n",
      "+----+-------+------+\n",
      "only showing top 5 rows\n",
      "\n",
      "Training: 900442, Test: 99785\n"
     ]
    }
   ],
   "source": [
    "\n",
    "# Split the ratings DataFrame into 90% training and 10% test\n",
    "set = ratings.randomSplit([0.9, 0.1], seed=12345)\n",
    "\n",
    "training = normalized_ratings.union(set[0]).cache()\n",
    "\n",
    "\n",
    "training.show(10)\n",
    "\n",
    "test = set[1].cache()\n",
    "\n",
    "test.show(5)\n",
    "\n",
    "print(f\"Training: {training.count()}, Test: {test.count()}\")"
   ]
  },
  {
   "cell_type": "code",
   "execution_count": 7,
   "metadata": {},
   "outputs": [
    {
     "name": "stderr",
     "output_type": "stream",
     "text": [
      "24/11/24 20:32:44 WARN InstanceBuilder: Failed to load implementation from:dev.ludovic.netlib.blas.JNIBLAS\n",
      "24/11/24 20:32:44 WARN InstanceBuilder: Failed to load implementation from:dev.ludovic.netlib.lapack.JNILAPACK\n"
     ]
    },
    {
     "name": "stdout",
     "output_type": "stream",
     "text": [
      "<class 'pyspark.ml.recommendation.ALSModel'>\n"
     ]
    }
   ],
   "source": [
    "from pyspark.ml.recommendation import ALS\n",
    "\n",
    "# Define ALS model parameters\n",
    "rank = 10\n",
    "num_iterations = 40\n",
    "regularization = 0.09\n",
    "\n",
    "# Initialize ALS\n",
    "als = ALS(\n",
    "    rank=rank,\n",
    "    maxIter=num_iterations,\n",
    "    regParam=regularization,\n",
    "    userCol=\"user\",\n",
    "    itemCol=\"product\",\n",
    "    ratingCol=\"rating\",\n",
    "    coldStartStrategy=\"drop\" \n",
    ")\n",
    "\n",
    "model = als.fit(training)\n",
    "\n",
    "# Model type\n",
    "print(type(model))"
   ]
  },
  {
   "cell_type": "code",
   "execution_count": 8,
   "metadata": {},
   "outputs": [
    {
     "name": "stdout",
     "output_type": "stream",
     "text": [
      "+----+-------+-----------+\n",
      "|user|product| prediction|\n",
      "+----+-------+-----------+\n",
      "|   0|    148|-0.15345615|\n",
      "|   0|    463|  2.3202193|\n",
      "|   0|    471| 0.62753725|\n",
      "|   0|    496| -1.6967096|\n",
      "|   0|    833|  0.9868451|\n",
      "|   0|   1088|  3.7997017|\n",
      "|   0|   1238|  1.9333942|\n",
      "|   0|   1342|  1.7283303|\n",
      "|   0|   1580|  2.0095618|\n",
      "|   0|   1591|  0.7100055|\n",
      "|   0|   1645|  1.1646177|\n",
      "|   0|   1829|  1.4399781|\n",
      "|   0|   1959|  2.7971826|\n",
      "|   0|   2122|  1.2953333|\n",
      "|   0|   2142|   3.418547|\n",
      "|   0|   2366|  2.3574135|\n",
      "|   0|   2659|  1.8270967|\n",
      "|   0|   2866|  2.3011346|\n",
      "|   0|   3175|   2.460287|\n",
      "|   0|   3749|  1.4143329|\n",
      "+----+-------+-----------+\n",
      "only showing top 20 rows\n",
      "\n"
     ]
    }
   ],
   "source": [
    "from pyspark.ml.evaluation import RegressionEvaluator\n",
    "\n",
    "users_products = movies.select(lit(user_id).alias(\"user\"), movies[\"movie\"]).rdd.map(lambda row: (row[0], row[1]))\n",
    "\n",
    "\n",
    "users_products_df = users_products.toDF([\"user\", \"product\"])\n",
    "joined_df = users_products_df.join(normalized_ratings, on=[\"user\",\"product\"])\n",
    "\n",
    "predictions = model.transform(users_products_df)\n",
    "\n",
    "predictions.show()"
   ]
  },
  {
   "cell_type": "code",
   "execution_count": 9,
   "metadata": {},
   "outputs": [
    {
     "name": "stdout",
     "output_type": "stream",
     "text": [
      "+-----+------------------------------------------+-------------------------------------+-----------+\n",
      "|movie|title                                     |genre                                |prediction |\n",
      "+-----+------------------------------------------+-------------------------------------+-----------+\n",
      "|148  |Awfully Big Adventure, An (1995)          |[Drama]                              |-0.15345615|\n",
      "|463  |Guilty as Sin (1993)                      |[Crime, Drama, Thriller]             |2.3202193  |\n",
      "|471  |Hudsucker Proxy, The (1994)               |[Comedy, Romance]                    |0.62753725 |\n",
      "|496  |What Happened Was... (1994)               |[Comedy, Drama, Romance]             |-1.6967096 |\n",
      "|833  |High School High (1996)                   |[Comedy]                             |0.9868451  |\n",
      "|1088 |Dirty Dancing (1987)                      |[Musical, Romance]                   |3.7997017  |\n",
      "|1238 |Local Hero (1983)                         |[Comedy]                             |1.9333942  |\n",
      "|1342 |Candyman (1992)                           |[Horror]                             |1.7283303  |\n",
      "|1580 |Men in Black (1997)                       |[Action, Adventure, Comedy, Sci-Fi]  |2.0095618  |\n",
      "|1591 |Spawn (1997)                              |[Action, Adventure, Sci-Fi, Thriller]|0.7100055  |\n",
      "|1645 |Devil's Advocate, The (1997)              |[Crime, Horror, Mystery, Thriller]   |1.1646177  |\n",
      "|1829 |Chinese Box (1997)                        |[Drama, Romance]                     |1.4399781  |\n",
      "|1959 |Out of Africa (1985)                      |[Drama, Romance]                     |2.7971826  |\n",
      "|2122 |Children of the Corn (1984)               |[Horror, Thriller]                   |1.2953333  |\n",
      "|2142 |American Tail: Fievel Goes West, An (1991)|[Animation, Children's, Comedy]      |3.418547   |\n",
      "|2366 |King Kong (1933)                          |[Action, Adventure, Horror]          |2.3574135  |\n",
      "|2659 |It Came from Hollywood (1982)             |[Comedy, Documentary]                |1.8270967  |\n",
      "|2866 |Buddy Holly Story, The (1978)             |[Drama]                              |2.3011346  |\n",
      "|3175 |Galaxy Quest (1999)                       |[Adventure, Comedy, Sci-Fi]          |2.460287   |\n",
      "|3749 |Time Regained (Le Temps Retrouv�) (1999)  |[Drama]                              |1.4143329  |\n",
      "+-----+------------------------------------------+-------------------------------------+-----------+\n",
      "only showing top 20 rows\n",
      "\n"
     ]
    }
   ],
   "source": [
    "# Filter the predictions for user ID 0\n",
    "df = predictions.filter(col(\"user\") == 0)\n",
    "\n",
    "sorted_df = df.orderBy(col(\"prediction\").desc())\n",
    "\n",
    "result_df = (\n",
    "    sorted_df.join(movies, sorted_df[\"product\"] == movies[\"movie\"])\n",
    "    .select(\"movie\", \"title\", \"genre\", 'prediction')\n",
    ")\n",
    "\n",
    "\n",
    "result_df.show(truncate=False)\n"
   ]
  },
  {
   "cell_type": "code",
   "execution_count": 10,
   "metadata": {},
   "outputs": [
    {
     "name": "stderr",
     "output_type": "stream",
     "text": [
      "                                                                                \r"
     ]
    },
    {
     "name": "stdout",
     "output_type": "stream",
     "text": [
      "+----+-----+-----------------------------------------------+-----------------------+----------------+\n",
      "|user|movie|title                                          |genre                  |predicted_rating|\n",
      "+----+-----+-----------------------------------------------+-----------------------+----------------+\n",
      "|0   |138  |Neon Bible, The (1995)                         |[Drama]                |5.7786355       |\n",
      "|0   |687  |Country Life (1994)                            |[Drama, Romance]       |5.31579         |\n",
      "|0   |3853 |Tic Code, The (1998)                           |[Drama]                |5.054108        |\n",
      "|0   |2101 |Squanto: A Warrior's Tale (1994)               |[Adventure, Drama]     |4.991754        |\n",
      "|0   |831  |Stonewall (1995)                               |[Drama]                |4.971883        |\n",
      "|0   |137  |Man of the Year (1995)                         |[Documentary]          |4.7907467       |\n",
      "|0   |2156 |Best Man, The (Il Testimone dello sposo) (1997)|[Comedy, Drama]        |4.6737504       |\n",
      "|0   |1477 |Love Jones (1997)                              |[Romance]              |4.516272        |\n",
      "|0   |343  |Baby-Sitters Club, The (1995)                  |[Children's]           |4.5133905       |\n",
      "|0   |2056 |In Search of the Castaways (1962)              |[Adventure, Children's]|4.4811277       |\n",
      "+----+-----+-----------------------------------------------+-----------------------+----------------+\n",
      "\n"
     ]
    },
    {
     "name": "stderr",
     "output_type": "stream",
     "text": [
      "[Stage 1057:===================================================> (98 + 2) / 100]\r"
     ]
    },
    {
     "name": "stdout",
     "output_type": "stream",
     "text": [
      "+-------+-----------------------------------------------------------------------------------------+\n",
      "|product|recommendations                                                                          |\n",
      "+-------+-----------------------------------------------------------------------------------------+\n",
      "|138    |[{0, 5.7786355}, {1213, 5.520504}, {1111, 5.206867}, {2151, 5.1378045}, {1657, 4.964856}]|\n",
      "+-------+-----------------------------------------------------------------------------------------+\n",
      "\n"
     ]
    },
    {
     "name": "stderr",
     "output_type": "stream",
     "text": [
      "                                                                                \r"
     ]
    }
   ],
   "source": [
    "from pyspark.sql.functions import explode\n",
    "\n",
    "\n",
    "# Generate top 10 recommendations for user 0\n",
    "user_recommendations = model.recommendForAllUsers(10)\n",
    "user_recommendations = user_recommendations.filter(\"user = 0\")\n",
    "user_recommendations = user_recommendations.select(col(\"user\"), explode(col(\"recommendations\").alias(\"recommendation\"))) \\\n",
    ".select(col(\"user\"),\n",
    "        col(\"col.product\").alias(\"product\"),\n",
    "        col(\"col.rating\").alias(\"predicted_rating\")\n",
    "       )\n",
    "\n",
    "user_recommendations = user_recommendations.join(\n",
    "    movies,\n",
    "    user_recommendations[\"product\"] == movies[\"movie\"]\n",
    ").select(\"user\", \"movie\", \"title\", \"genre\", 'predicted_rating')\n",
    "user_recommendations.show(truncate=False)\n",
    "\n",
    "# Generate top 10 recommendations for  product 2101\n",
    "item_recommendations = model.recommendForAllItems(5)\n",
    "item_recommendations = item_recommendations.filter(\"product = 138\")\n",
    "item_recommendations.show(truncate=False)"
   ]
  },
  {
   "cell_type": "code",
   "execution_count": 11,
   "metadata": {},
   "outputs": [],
   "source": [
    "spark.stop()"
   ]
  }
 ],
 "metadata": {
  "kernelspec": {
   "display_name": "Python 3",
   "language": "python",
   "name": "python3"
  },
  "language_info": {
   "codemirror_mode": {
    "name": "ipython",
    "version": 3
   },
   "file_extension": ".py",
   "mimetype": "text/x-python",
   "name": "python",
   "nbconvert_exporter": "python",
   "pygments_lexer": "ipython3",
   "version": "3.9.6"
  }
 },
 "nbformat": 4,
 "nbformat_minor": 2
}
