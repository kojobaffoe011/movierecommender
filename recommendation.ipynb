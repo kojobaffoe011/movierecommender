{
 "cells": [
  {
   "cell_type": "markdown",
   "metadata": {},
   "source": [
    "# A Basic Movie Recommendation Program"
   ]
  },
  {
   "cell_type": "code",
   "execution_count": 41,
   "metadata": {},
   "outputs": [
    {
     "name": "stdout",
     "output_type": "stream",
     "text": [
      "+----+-------+------+\n",
      "|user|product|rating|\n",
      "+----+-------+------+\n",
      "|1   |1193   |5.0   |\n",
      "|1   |661    |3.0   |\n",
      "|1   |914    |3.0   |\n",
      "|1   |3408   |4.0   |\n",
      "|1   |2355   |5.0   |\n",
      "|1   |1197   |3.0   |\n",
      "|1   |1287   |5.0   |\n",
      "|1   |2804   |5.0   |\n",
      "|1   |594    |4.0   |\n",
      "|1   |919    |4.0   |\n",
      "+----+-------+------+\n",
      "only showing top 10 rows\n",
      "\n"
     ]
    }
   ],
   "source": [
    "from pyspark.sql import  SparkSession\n",
    "from pyspark.sql.types import IntegerType, FloatType \n",
    "from pyspark.sql.functions import split, col\n",
    "\n",
    "\n",
    "spark = SparkSession.builder.appName(\"MovieRecommender\").getOrCreate()\n",
    "\n",
    "ratings = spark.read.text(\"ml-1m/ratings.dat\")\n",
    "\n",
    "ratings = ratings.withColumn(\"value\", split(col(\"value\"), \"::\")) \\\n",
    "    .select(\n",
    "        col(\"value\")[0].cast(IntegerType()).alias(\"user\"),\n",
    "        col(\"value\")[1].cast(IntegerType()).alias(\"product\"),\n",
    "        col(\"value\")[2].cast(FloatType()).alias(\"rating\")\n",
    "    )\n",
    "\n",
    "ratings.show(10, truncate=False)\n",
    "\n"
   ]
  },
  {
   "cell_type": "code",
   "execution_count": 42,
   "metadata": {},
   "outputs": [
    {
     "name": "stdout",
     "output_type": "stream",
     "text": [
      "+-----+----------------------------------+--------------------------------+\n",
      "|movie|title                             |genre                           |\n",
      "+-----+----------------------------------+--------------------------------+\n",
      "|1    |Toy Story (1995)                  |[Animation, Children's, Comedy] |\n",
      "|2    |Jumanji (1995)                    |[Adventure, Children's, Fantasy]|\n",
      "|3    |Grumpier Old Men (1995)           |[Comedy, Romance]               |\n",
      "|4    |Waiting to Exhale (1995)          |[Comedy, Drama]                 |\n",
      "|5    |Father of the Bride Part II (1995)|[Comedy]                        |\n",
      "|6    |Heat (1995)                       |[Action, Crime, Thriller]       |\n",
      "|7    |Sabrina (1995)                    |[Comedy, Romance]               |\n",
      "|8    |Tom and Huck (1995)               |[Adventure, Children's]         |\n",
      "|9    |Sudden Death (1995)               |[Action]                        |\n",
      "|10   |GoldenEye (1995)                  |[Action, Adventure, Thriller]   |\n",
      "+-----+----------------------------------+--------------------------------+\n",
      "only showing top 10 rows\n",
      "\n"
     ]
    }
   ],
   "source": [
    "movies = spark.read.text(\"ml-1m/movies.dat\")\n",
    "\n",
    "# Process the data\n",
    "movies = movies.withColumn(\"value\", split(col(\"value\"), \"::\")) \\\n",
    "    .select(\n",
    "        col(\"value\")[0].cast(IntegerType()).alias(\"movie\"),\n",
    "        col(\"value\")[1].alias(\"title\"),\n",
    "        split(col(\"value\")[2], \"\\\\|\").alias(\"genre\")\n",
    "    )\n",
    "\n",
    "movies.show(10, truncate=False)"
   ]
  },
  {
   "cell_type": "code",
   "execution_count": 43,
   "metadata": {},
   "outputs": [
    {
     "name": "stdout",
     "output_type": "stream",
     "text": [
      "Row(movie=1, title='Toy Story (1995)', genre=['Animation', \"Children's\", 'Comedy'])\n",
      "Row(movie=13, title='Balto (1995)', genre=['Animation', \"Children's\"])\n",
      "Row(movie=48, title='Pocahontas (1995)', genre=['Animation', \"Children's\", 'Musical', 'Romance'])\n",
      "Row(movie=239, title='Goofy Movie, A (1995)', genre=['Animation', \"Children's\", 'Comedy', 'Romance'])\n",
      "Row(movie=244, title='Gumby: The Movie (1995)', genre=['Animation', \"Children's\"])\n",
      "Row(movie=313, title='Swan Princess, The (1994)', genre=['Animation', \"Children's\"])\n",
      "Row(movie=364, title='Lion King, The (1994)', genre=['Animation', \"Children's\", 'Musical'])\n",
      "Row(movie=558, title='Pagemaster, The (1994)', genre=['Action', 'Adventure', 'Animation', \"Children's\", 'Fantasy'])\n",
      "Row(movie=588, title='Aladdin (1992)', genre=['Animation', \"Children's\", 'Comedy', 'Musical'])\n",
      "Row(movie=594, title='Snow White and the Seven Dwarfs (1937)', genre=['Animation', \"Children's\", 'Musical'])\n"
     ]
    }
   ],
   "source": [
    "animated_movies = movies.rdd \\\n",
    "    .filter(lambda row: \"Animation\" in row[\"genre\"]) \\\n",
    "    .take(10)\n",
    "\n",
    "for movie in animated_movies:\n",
    "    print(movie)"
   ]
  },
  {
   "cell_type": "code",
   "execution_count": 44,
   "metadata": {},
   "outputs": [],
   "source": [
    "personal_ratings = [\n",
    "    (\"Toy Story (1995)\", 5.0),\n",
    "    (\"Jumanji (1995)\", 4.0),\n",
    "    (\"Pocahontas (1995)\", 5.0),\n",
    "    (\"Aladdin (1992)\", 5.0),\n",
    "    (\"Inferno (1980)\", 1.0),\n",
    "    (\"Balto (1995)\", 5.0),\n",
    "    (\"Man of the Year (1995)\", 5.0),\n",
    "    (\"Mortal Kombat (1995)\", 1.0),\n",
    "    (\"Ace Ventura: When Nature Calls (1995)\", 1.0),\n",
    "    (\"Heat (1995)\", 1.0),\n",
    "    (\"Seven Samurai (The Magnificent Seven) (Shichinin no samurai) (1954)\", 1.0),\n",
    "    (\"Saving Private Ryan (1998)\", 1.0),\n",
    "    (\"Sixth Sense, The (1999)\", 1.0),\n",
    "    (\"Wrong Trousers, The (1993)\", 1.0),\n",
    "    (\"Indiana Jones and the Last Crusade (1989)\", 1.0),\n",
    "    (\"Godfather, The (1972)\", 1.0),\n",
    "    (\"Fugitive, The (1993)\", 1.0),\n",
    "    (\"Silence of the Lambs, The (1991)\", 2.0)\n",
    "]\n",
    "\n",
    "columns = [\"title\", \"rating\"]\n",
    "\n",
    "personal_ratings = spark.createDataFrame(personal_ratings, columns)"
   ]
  },
  {
   "cell_type": "code",
   "execution_count": 45,
   "metadata": {},
   "outputs": [
    {
     "name": "stdout",
     "output_type": "stream",
     "text": [
      "18\n",
      "Movie IDs: [1, 2, 48, 588, 3587, 13, 137, 44, 19, 6, 2019, 2028, 2762, 1148, 1291, 858, 457, 593]\n"
     ]
    }
   ],
   "source": [
    "from pyspark.sql.functions import lit\n",
    "\n",
    "\n",
    "user_id = 0\n",
    "\n",
    "# Join `personal_ratings` with `movies` on the \"title\" column\n",
    "normalized_ratings = personal_ratings.join(movies, on=\"title\") \\\n",
    "    .select(\n",
    "        lit(user_id).alias(\"user\"), \n",
    "        movies[\"movie\"].alias(\"product\"),\n",
    "        personal_ratings[\"rating\"]\n",
    "    )\n",
    "\n",
    "\n",
    "\n",
    "print(normalized_ratings.count())\n",
    "movie_ids = normalized_ratings.select(\"product\").rdd.map(lambda row: row[\"product\"]).collect()\n",
    "\n",
    "print(\"Movie IDs:\", movie_ids)"
   ]
  },
  {
   "cell_type": "code",
   "execution_count": 46,
   "metadata": {},
   "outputs": [
    {
     "name": "stderr",
     "output_type": "stream",
     "text": [
      "                                                                                \r"
     ]
    },
    {
     "name": "stdout",
     "output_type": "stream",
     "text": [
      "+----+-------+------+\n",
      "|user|product|rating|\n",
      "+----+-------+------+\n",
      "|   0|      1|   5.0|\n",
      "|   0|      2|   4.0|\n",
      "|   0|     48|   5.0|\n",
      "|   0|    588|   5.0|\n",
      "|   0|   3587|   1.0|\n",
      "|   0|     13|   5.0|\n",
      "|   0|    137|   5.0|\n",
      "|   0|     44|   1.0|\n",
      "|   0|     19|   1.0|\n",
      "|   0|      6|   1.0|\n",
      "+----+-------+------+\n",
      "only showing top 10 rows\n",
      "\n",
      "+----+-------+------+\n",
      "|user|product|rating|\n",
      "+----+-------+------+\n",
      "|   1|   1207|   4.0|\n",
      "|   1|   1246|   4.0|\n",
      "|   1|   2028|   5.0|\n",
      "|   1|   2804|   5.0|\n",
      "|   1|   3114|   4.0|\n",
      "+----+-------+------+\n",
      "only showing top 5 rows\n",
      "\n",
      "Training: 900442, Test: 99785\n"
     ]
    }
   ],
   "source": [
    "\n",
    "# Split the ratings DataFrame into 90% training and 10% test\n",
    "set = ratings.randomSplit([0.9, 0.1], seed=12345)\n",
    "\n",
    "training = normalized_ratings.union(set[0]).cache()\n",
    "\n",
    "\n",
    "training.show(10)\n",
    "\n",
    "test = set[1].cache()\n",
    "\n",
    "test.show(5)\n",
    "\n",
    "print(f\"Training: {training.count()}, Test: {test.count()}\")"
   ]
  },
  {
   "cell_type": "code",
   "execution_count": 47,
   "metadata": {},
   "outputs": [
    {
     "name": "stdout",
     "output_type": "stream",
     "text": [
      "<class 'pyspark.ml.recommendation.ALSModel'>\n"
     ]
    }
   ],
   "source": [
    "from pyspark.ml.recommendation import ALS\n",
    "\n",
    "# Define ALS model parameters\n",
    "rank = 40\n",
    "num_iterations = 20\n",
    "regularization = 0.09\n",
    "\n",
    "# Initialize ALS\n",
    "als = ALS(\n",
    "    rank=rank,\n",
    "    maxIter=num_iterations,\n",
    "    regParam=regularization,\n",
    "    userCol=\"user\",\n",
    "    itemCol=\"product\",\n",
    "    ratingCol=\"rating\",\n",
    "    coldStartStrategy=\"drop\" \n",
    ")\n",
    "\n",
    "model = als.fit(training)\n",
    "\n",
    "# Model type\n",
    "print(type(model))"
   ]
  },
  {
   "cell_type": "code",
   "execution_count": 48,
   "metadata": {},
   "outputs": [
    {
     "name": "stdout",
     "output_type": "stream",
     "text": [
      "+----+-------+------+----------+\n",
      "|user|product|rating|prediction|\n",
      "+----+-------+------+----------+\n",
      "|   0|      1|   5.0| 3.1944888|\n",
      "|   0|      2|   4.0|  2.824113|\n",
      "|   0|    588|   5.0| 3.4858088|\n",
      "|   0|     48|   5.0| 3.9995697|\n",
      "|   0|   3587|   1.0| 1.1961099|\n",
      "|   0|     13|   5.0| 3.9351368|\n",
      "|   0|    137|   5.0|     4.768|\n",
      "|   0|     44|   1.0| 1.2184556|\n",
      "|   0|      6|   1.0|0.96165204|\n",
      "|   0|     19|   1.0| 0.9759796|\n",
      "|   0|   2019|   1.0| 1.5785863|\n",
      "|   0|   2028|   1.0| 1.5123614|\n",
      "|   0|   1148|   1.0| 1.7745425|\n",
      "|   0|   2762|   1.0|  2.010128|\n",
      "|   0|    858|   1.0| 1.3620778|\n",
      "|   0|    593|   2.0| 1.6572498|\n",
      "|   0|   1291|   1.0| 1.7261155|\n",
      "|   0|    457|   1.0| 1.9003179|\n",
      "+----+-------+------+----------+\n",
      "\n"
     ]
    }
   ],
   "source": [
    "\n",
    "users_products = movies.select(lit(user_id).alias(\"user\"), movies[\"movie\"]).rdd.map(lambda row: (row[0], row[1]))\n",
    "\n",
    "\n",
    "\n",
    "\n",
    "users_products_df = users_products.toDF([\"user\", \"product\"])\n",
    "\n",
    "users_products_df = users_products_df.join(normalized_ratings, on=[\"user\",\"product\"]).select('user','product', 'rating')\n",
    "\n",
    "\n",
    "predictions = model.transform(users_products_df)\n",
    "\n",
    "predictions.show()"
   ]
  },
  {
   "cell_type": "code",
   "execution_count": 49,
   "metadata": {},
   "outputs": [
    {
     "name": "stdout",
     "output_type": "stream",
     "text": [
      "Root-mean-square error = 0.8503642724718667\n"
     ]
    }
   ],
   "source": [
    "#evaluating our model \n",
    "from pyspark.ml.evaluation import RegressionEvaluator\n",
    "\n",
    "\n",
    "evaluator = RegressionEvaluator(\n",
    "    metricName=\"rmse\",\n",
    "    labelCol=\"rating\",\n",
    "    predictionCol=\"prediction\"\n",
    ")\n",
    "rmse = evaluator.evaluate(predictions)\n",
    "\n",
    "print(f\"Root-mean-square error = {rmse}\")\n"
   ]
  },
  {
   "cell_type": "code",
   "execution_count": 50,
   "metadata": {},
   "outputs": [
    {
     "name": "stdout",
     "output_type": "stream",
     "text": [
      "+-----+-------------------------------------------------------------------+-----------------------------------------+----------+\n",
      "|movie|title                                                              |genre                                    |prediction|\n",
      "+-----+-------------------------------------------------------------------+-----------------------------------------+----------+\n",
      "|1    |Toy Story (1995)                                                   |[Animation, Children's, Comedy]          |3.1944888 |\n",
      "|2    |Jumanji (1995)                                                     |[Adventure, Children's, Fantasy]         |2.824113  |\n",
      "|588  |Aladdin (1992)                                                     |[Animation, Children's, Comedy, Musical] |3.4858088 |\n",
      "|48   |Pocahontas (1995)                                                  |[Animation, Children's, Musical, Romance]|3.9995697 |\n",
      "|3587 |Inferno (1980)                                                     |[Horror]                                 |1.1961099 |\n",
      "|13   |Balto (1995)                                                       |[Animation, Children's]                  |3.9351368 |\n",
      "|137  |Man of the Year (1995)                                             |[Documentary]                            |4.768     |\n",
      "|44   |Mortal Kombat (1995)                                               |[Action, Adventure]                      |1.2184556 |\n",
      "|6    |Heat (1995)                                                        |[Action, Crime, Thriller]                |0.96165204|\n",
      "|19   |Ace Ventura: When Nature Calls (1995)                              |[Comedy]                                 |0.9759796 |\n",
      "|2019 |Seven Samurai (The Magnificent Seven) (Shichinin no samurai) (1954)|[Action, Drama]                          |1.5785863 |\n",
      "|2028 |Saving Private Ryan (1998)                                         |[Action, Drama, War]                     |1.5123614 |\n",
      "|1148 |Wrong Trousers, The (1993)                                         |[Animation, Comedy]                      |1.7745425 |\n",
      "|2762 |Sixth Sense, The (1999)                                            |[Thriller]                               |2.010128  |\n",
      "|858  |Godfather, The (1972)                                              |[Action, Crime, Drama]                   |1.3620778 |\n",
      "|593  |Silence of the Lambs, The (1991)                                   |[Drama, Thriller]                        |1.6572498 |\n",
      "|1291 |Indiana Jones and the Last Crusade (1989)                          |[Action, Adventure]                      |1.7261155 |\n",
      "|457  |Fugitive, The (1993)                                               |[Action, Thriller]                       |1.9003179 |\n",
      "+-----+-------------------------------------------------------------------+-----------------------------------------+----------+\n",
      "\n"
     ]
    }
   ],
   "source": [
    "# Filter the predictions for user ID 0\n",
    "df = predictions.filter(col(\"user\") == 0)\n",
    "\n",
    "sorted_df = df.orderBy(col(\"prediction\").desc())\n",
    "\n",
    "result_df = (\n",
    "    sorted_df.join(movies, sorted_df[\"product\"] == movies[\"movie\"])\n",
    "    .select(\"movie\", \"title\", \"genre\", 'prediction')\n",
    ")\n",
    "\n",
    "\n",
    "result_df.show(truncate=False)\n"
   ]
  },
  {
   "cell_type": "code",
   "execution_count": 51,
   "metadata": {},
   "outputs": [
    {
     "name": "stderr",
     "output_type": "stream",
     "text": [
      "                                                                                \r"
     ]
    },
    {
     "name": "stdout",
     "output_type": "stream",
     "text": [
      "+----+-----+--------------------------------+-------------------------------------------------+----------------+\n",
      "|user|movie|title                           |genre                                            |predicted_rating|\n",
      "+----+-----+--------------------------------+-------------------------------------------------+----------------+\n",
      "|0   |137  |Man of the Year (1995)          |[Documentary]                                    |4.7680006       |\n",
      "|0   |343  |Baby-Sitters Club, The (1995)   |[Children's]                                     |4.1542983       |\n",
      "|0   |2059 |Parent Trap, The (1998)         |[Children's, Drama]                              |4.100318        |\n",
      "|0   |831  |Stonewall (1995)                |[Drama]                                          |4.0957785       |\n",
      "|0   |2101 |Squanto: A Warrior's Tale (1994)|[Adventure, Drama]                               |4.0034547       |\n",
      "|0   |48   |Pocahontas (1995)               |[Animation, Children's, Musical, Romance]        |3.9995694       |\n",
      "|0   |1028 |Mary Poppins (1964)             |[Children's, Comedy, Musical]                    |3.9466722       |\n",
      "|0   |13   |Balto (1995)                    |[Animation, Children's]                          |3.9351363       |\n",
      "|0   |1654 |FairyTale: A True Story (1997)  |[Children's, Drama, Fantasy]                     |3.9206595       |\n",
      "|0   |2081 |Little Mermaid, The (1989)      |[Animation, Children's, Comedy, Musical, Romance]|3.918984        |\n",
      "+----+-----+--------------------------------+-------------------------------------------------+----------------+\n",
      "\n"
     ]
    },
    {
     "name": "stderr",
     "output_type": "stream",
     "text": [
      "[Stage 3619:===============================================>     (89 + 8) / 100]\r"
     ]
    },
    {
     "name": "stdout",
     "output_type": "stream",
     "text": [
      "+-------+----------------------------------------------------------------------------------------------+\n",
      "|product|recommendations                                                                               |\n",
      "+-------+----------------------------------------------------------------------------------------------+\n",
      "|138    |[{5606, 3.753554}, {2151, 3.7440114}, {3473, 3.5514183}, {4169, 3.5469933}, {2549, 3.5191498}]|\n",
      "+-------+----------------------------------------------------------------------------------------------+\n",
      "\n"
     ]
    },
    {
     "name": "stderr",
     "output_type": "stream",
     "text": [
      "                                                                                \r"
     ]
    }
   ],
   "source": [
    "from pyspark.sql.functions import explode\n",
    "\n",
    "\n",
    "# Generate top 10 recommendations for user 0\n",
    "user_recommendations = model.recommendForAllUsers(10)\n",
    "user_recommendations = user_recommendations.filter(\"user = 0\")\n",
    "user_recommendations = user_recommendations.select(col(\"user\"), explode(col(\"recommendations\").alias(\"recommendation\"))) \\\n",
    ".select(col(\"user\"),\n",
    "        col(\"col.product\").alias(\"product\"),\n",
    "        col(\"col.rating\").alias(\"predicted_rating\")\n",
    "       )\n",
    "\n",
    "user_recommendations = user_recommendations.join(\n",
    "    movies,\n",
    "    user_recommendations[\"product\"] == movies[\"movie\"]\n",
    ").select(\"user\", \"movie\", \"title\", \"genre\", 'predicted_rating')\n",
    "user_recommendations.show(truncate=False)\n",
    "\n",
    "# Generate top 10 recommendations for  product 138\n",
    "item_recommendations = model.recommendForAllItems(5)\n",
    "item_recommendations = item_recommendations.filter(\"product = 138\")\n",
    "item_recommendations.show(truncate=False)"
   ]
  },
  {
   "cell_type": "code",
   "execution_count": null,
   "metadata": {},
   "outputs": [],
   "source": [
    "spark.stop()"
   ]
  }
 ],
 "metadata": {
  "kernelspec": {
   "display_name": "Python 3",
   "language": "python",
   "name": "python3"
  },
  "language_info": {
   "codemirror_mode": {
    "name": "ipython",
    "version": 3
   },
   "file_extension": ".py",
   "mimetype": "text/x-python",
   "name": "python",
   "nbconvert_exporter": "python",
   "pygments_lexer": "ipython3",
   "version": "3.9.6"
  }
 },
 "nbformat": 4,
 "nbformat_minor": 2
}
